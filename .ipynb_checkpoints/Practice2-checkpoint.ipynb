{
 "cells": [
  {
   "cell_type": "markdown",
   "id": "3e4e5f15-cded-4e8f-8da4-aae56fbd6089",
   "metadata": {},
   "source": [
    "## Tensorflow NLP"
   ]
  },
  {
   "cell_type": "raw",
   "id": "c4327a98-86ad-4d1e-b7e6-b9db8de05392",
   "metadata": {},
   "source": []
  }
 ],
 "metadata": {
  "kernelspec": {
   "display_name": "Python 3 (ipykernel)",
   "language": "python",
   "name": "python3"
  },
  "language_info": {
   "codemirror_mode": {
    "name": "ipython",
    "version": 3
   },
   "file_extension": ".py",
   "mimetype": "text/x-python",
   "name": "python",
   "nbconvert_exporter": "python",
   "pygments_lexer": "ipython3",
   "version": "3.9.7"
  }
 },
 "nbformat": 4,
 "nbformat_minor": 5
}
