{
 "cells": [
  {
   "cell_type": "markdown",
   "id": "3e4e5f15-cded-4e8f-8da4-aae56fbd6089",
   "metadata": {},
   "source": [
    "## Tensorflow NLP"
   ]
  },
  {
   "cell_type": "code",
   "execution_count": 1,
   "id": "9ae46124-f485-4012-ae8e-84cbaba49ac4",
   "metadata": {},
   "outputs": [],
   "source": [
    "import tensorflow as tf\n",
    "from tensorflow import keras\n",
    "from tensorflow.keras.preprocessing.text"
   ]
  },
  {
   "cell_type": "code",
   "execution_count": null,
   "id": "2ac3aad2-cbc3-406e-ae41-aa449d68f004",
   "metadata": {},
   "outputs": [],
   "source": []
  }
 ],
 "metadata": {
  "kernelspec": {
   "display_name": "Python 3 (ipykernel)",
   "language": "python",
   "name": "python3"
  },
  "language_info": {
   "codemirror_mode": {
    "name": "ipython",
    "version": 3
   },
   "file_extension": ".py",
   "mimetype": "text/x-python",
   "name": "python",
   "nbconvert_exporter": "python",
   "pygments_lexer": "ipython3",
   "version": "3.9.7"
  }
 },
 "nbformat": 4,
 "nbformat_minor": 5
}
